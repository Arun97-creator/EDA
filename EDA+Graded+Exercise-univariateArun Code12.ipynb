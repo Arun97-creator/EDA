{
 "cells": [
  {
   "cell_type": "code",
   "execution_count": 1,
   "metadata": {},
   "outputs": [],
   "source": [
    "#Import the required Libraries.\n",
    "import numpy as np\n",
    "import pandas as pd\n",
    "import matplotlib.pyplot as plt\n",
    "import seaborn as sns"
   ]
  },
  {
   "cell_type": "markdown",
   "metadata": {},
   "source": [
    "## Data Cleaning "
   ]
  },
  {
   "cell_type": "markdown",
   "metadata": {},
   "source": [
    "### Data Reading & Data Types "
   ]
  },
  {
   "cell_type": "code",
   "execution_count": 2,
   "metadata": {},
   "outputs": [],
   "source": [
    "#Read the data in pandas\n",
    "inp0= pd.read_csv(\"D:/Upgrad-Class/EDA/Univariate-Graded/Attribute.csv\")\n",
    "inp1= pd.read_csv(\"D:/Upgrad-Class/EDA/Univariate-Graded/Dress+Sales.csv\")"
   ]
  },
  {
   "cell_type": "markdown",
   "metadata": {},
   "source": [
    "You have “Attribute DataSet” which contains a column named “Price”. Choose the correct statement from the following about its data type and variable type.\n",
    "- Integer type and numerical variable\n",
    "- Object type and categorical ordinal variable\n",
    "- Object type and categorical nominal variable\n",
    "- Float type and categorical variable.\n"
   ]
  },
  {
   "cell_type": "markdown",
   "metadata": {},
   "source": [
    "There is another column in “Attribute DataSet” named as “Recommendation”, choose the correct statement about its data type and variable type.\n",
    "- Integer type and categorical\n",
    "- Object type and categorical\n",
    "- Integer type and continuous numerical\n",
    "- Object type only.\n"
   ]
  },
  {
   "cell_type": "markdown",
   "metadata": {},
   "source": [
    "Which of the following column do you think are of no use in “Attribute DataSet”.\n",
    "- Dress_ID\n",
    "- Price\n",
    "- Size and material\n",
    "- NeckLine\n",
    "- None of the above\n"
   ]
  },
  {
   "cell_type": "code",
   "execution_count": 3,
   "metadata": {},
   "outputs": [],
   "source": [
    "# Print the information about the attributes of inp0 and inp1.\n"
   ]
  },
  {
   "cell_type": "markdown",
   "metadata": {},
   "source": [
    "### Fixing the Rows and Columns "
   ]
  },
  {
   "cell_type": "markdown",
   "metadata": {},
   "source": [
    "As you can see, there is a column in “Attribute Dataset” named as ‘Size’. This column contains the values in abbreviation format. Write a code in Python to convert the followings:\n",
    "\n",
    "- M into  “Medium”\n",
    "- L into  “Large”\n",
    "- XL into “Extra large”\n",
    "- free into “Free”\n",
    "- S, s & small into “Small”.\n",
    "\n",
    "Now once you are done with changes in the dataset, what is the value of the lowest percentage, the highest percentage and the percentage of Small size categories in the column named “Size”?\n"
   ]
  },
  {
   "cell_type": "code",
   "execution_count": 4,
   "metadata": {},
   "outputs": [
    {
     "data": {
      "text/plain": [
       "M        171\n",
       "free     165\n",
       "L         93\n",
       "S         34\n",
       "XL        14\n",
       "small      1\n",
       "s          1\n",
       "Name: Size, dtype: int64"
      ]
     },
     "execution_count": 4,
     "metadata": {},
     "output_type": "execute_result"
    }
   ],
   "source": [
    "# Column fixing, correcting size abbreviation. count the percentage of each size category in \"Size\" column.\n",
    "inp0.Size.value_counts()"
   ]
  },
  {
   "cell_type": "code",
   "execution_count": 5,
   "metadata": {},
   "outputs": [
    {
     "data": {
      "text/html": [
       "<div>\n",
       "<style scoped>\n",
       "    .dataframe tbody tr th:only-of-type {\n",
       "        vertical-align: middle;\n",
       "    }\n",
       "\n",
       "    .dataframe tbody tr th {\n",
       "        vertical-align: top;\n",
       "    }\n",
       "\n",
       "    .dataframe thead th {\n",
       "        text-align: right;\n",
       "    }\n",
       "</style>\n",
       "<table border=\"1\" class=\"dataframe\">\n",
       "  <thead>\n",
       "    <tr style=\"text-align: right;\">\n",
       "      <th></th>\n",
       "      <th>Dress_ID</th>\n",
       "      <th>Style</th>\n",
       "      <th>Price</th>\n",
       "      <th>Rating</th>\n",
       "      <th>Size</th>\n",
       "      <th>Season</th>\n",
       "      <th>NeckLine</th>\n",
       "      <th>SleeveLength</th>\n",
       "      <th>Material</th>\n",
       "      <th>FabricType</th>\n",
       "      <th>Decoration</th>\n",
       "      <th>Pattern Type</th>\n",
       "      <th>Recommendation</th>\n",
       "    </tr>\n",
       "  </thead>\n",
       "  <tbody>\n",
       "    <tr>\n",
       "      <th>0</th>\n",
       "      <td>1006032852</td>\n",
       "      <td>Sexy</td>\n",
       "      <td>Low</td>\n",
       "      <td>4.6</td>\n",
       "      <td>Medium</td>\n",
       "      <td>Summer</td>\n",
       "      <td>o-neck</td>\n",
       "      <td>sleevless</td>\n",
       "      <td>NaN</td>\n",
       "      <td>chiffon</td>\n",
       "      <td>ruffles</td>\n",
       "      <td>animal</td>\n",
       "      <td>1</td>\n",
       "    </tr>\n",
       "    <tr>\n",
       "      <th>1</th>\n",
       "      <td>1212192089</td>\n",
       "      <td>Casual</td>\n",
       "      <td>Low</td>\n",
       "      <td>0.0</td>\n",
       "      <td>Large</td>\n",
       "      <td>Summer</td>\n",
       "      <td>o-neck</td>\n",
       "      <td>Petal</td>\n",
       "      <td>microfiber</td>\n",
       "      <td>NaN</td>\n",
       "      <td>ruffles</td>\n",
       "      <td>animal</td>\n",
       "      <td>0</td>\n",
       "    </tr>\n",
       "    <tr>\n",
       "      <th>2</th>\n",
       "      <td>1190380701</td>\n",
       "      <td>vintage</td>\n",
       "      <td>High</td>\n",
       "      <td>0.0</td>\n",
       "      <td>Large</td>\n",
       "      <td>Automn</td>\n",
       "      <td>o-neck</td>\n",
       "      <td>full</td>\n",
       "      <td>polyster</td>\n",
       "      <td>NaN</td>\n",
       "      <td>NaN</td>\n",
       "      <td>print</td>\n",
       "      <td>0</td>\n",
       "    </tr>\n",
       "    <tr>\n",
       "      <th>3</th>\n",
       "      <td>966005983</td>\n",
       "      <td>Brief</td>\n",
       "      <td>Average</td>\n",
       "      <td>4.6</td>\n",
       "      <td>Large</td>\n",
       "      <td>Spring</td>\n",
       "      <td>o-neck</td>\n",
       "      <td>full</td>\n",
       "      <td>silk</td>\n",
       "      <td>chiffon</td>\n",
       "      <td>embroidary</td>\n",
       "      <td>print</td>\n",
       "      <td>1</td>\n",
       "    </tr>\n",
       "    <tr>\n",
       "      <th>4</th>\n",
       "      <td>876339541</td>\n",
       "      <td>cute</td>\n",
       "      <td>Low</td>\n",
       "      <td>4.5</td>\n",
       "      <td>Medium</td>\n",
       "      <td>Summer</td>\n",
       "      <td>o-neck</td>\n",
       "      <td>butterfly</td>\n",
       "      <td>chiffonfabric</td>\n",
       "      <td>chiffon</td>\n",
       "      <td>bow</td>\n",
       "      <td>dot</td>\n",
       "      <td>0</td>\n",
       "    </tr>\n",
       "  </tbody>\n",
       "</table>\n",
       "</div>"
      ],
      "text/plain": [
       "     Dress_ID    Style    Price  Rating    Size  Season NeckLine SleeveLength  \\\n",
       "0  1006032852     Sexy      Low     4.6  Medium  Summer   o-neck    sleevless   \n",
       "1  1212192089   Casual      Low     0.0   Large  Summer   o-neck        Petal   \n",
       "2  1190380701  vintage     High     0.0   Large  Automn   o-neck         full   \n",
       "3   966005983    Brief  Average     4.6   Large  Spring   o-neck         full   \n",
       "4   876339541     cute      Low     4.5  Medium  Summer   o-neck    butterfly   \n",
       "\n",
       "        Material FabricType  Decoration Pattern Type  Recommendation  \n",
       "0            NaN    chiffon     ruffles       animal               1  \n",
       "1     microfiber        NaN     ruffles       animal               0  \n",
       "2       polyster        NaN         NaN        print               0  \n",
       "3           silk    chiffon  embroidary        print               1  \n",
       "4  chiffonfabric    chiffon         bow          dot               0  "
      ]
     },
     "execution_count": 5,
     "metadata": {},
     "output_type": "execute_result"
    }
   ],
   "source": [
    "# Print the value counts of each category in \"Size\" column.\n",
    "#Column Fixing\n",
    "inp0.Size=inp0.Size.apply(lambda x: \"Medium\" if x==\"M\" else(\"Large\" if x==\"L\" else (\"Extra Large\" if x==\"XL\" else(\"Small\" if x==\"small\" else (\"Small\" if x.upper()==\"S\" else \"Free\")))))\n",
    "# Column fixing, correcting size abbreviation. count the percentage of each size category in \"Size\" column.\n",
    "#inp0.Size=inp0.Size.apply(lambda x : \"Medium\" if x==\"M\" else( \"Large\" if x==\"L\" else (\"Extra Large\" if x==\"XL\" else(\"Small\" if x==\"small\" else (\"Small\" if x.upper()==\"S\" else \"Free\")))))\n",
    "inp0.head()\n",
    "#inp0.head(20)"
   ]
  },
  {
   "cell_type": "markdown",
   "metadata": {},
   "source": [
    "### Impute/Remove Missing values"
   ]
  },
  {
   "cell_type": "code",
   "execution_count": 6,
   "metadata": {},
   "outputs": [
    {
     "data": {
      "text/plain": [
       "Medium         0.356994\n",
       "Free           0.344468\n",
       "Large          0.194154\n",
       "Small          0.075157\n",
       "Extra Large    0.029228\n",
       "Name: Size, dtype: float64"
      ]
     },
     "execution_count": 6,
     "metadata": {},
     "output_type": "execute_result"
    }
   ],
   "source": [
    "# Print the null count of each variables of inp0 and inp1.\n",
    "inp0.Size.value_counts()/len(inp0)*100\n",
    "inp0.Size.value_counts(normalize=True)"
   ]
  },
  {
   "cell_type": "code",
   "execution_count": 7,
   "metadata": {},
   "outputs": [
    {
     "data": {
      "text/plain": [
       "Dress_ID       0.000000\n",
       "29-08-2013     0.000000\n",
       "31-08-2013     0.000000\n",
       "09-02-2013     0.000000\n",
       "09-04-2013     0.000000\n",
       "09-06-2013     0.000000\n",
       "09-08-2013     0.000000\n",
       "09-10-2013     0.000000\n",
       "09-12-2013     0.000000\n",
       "14-09-2013     0.000000\n",
       "16-09-2013     0.000000\n",
       "18-09-2013     0.000000\n",
       "20-09-2013     0.000000\n",
       "22-09-2013     0.000000\n",
       "24-09-2013     0.000000\n",
       "26-09-2013    46.346555\n",
       "28-09-2013     0.000000\n",
       "30-09-2013    53.653445\n",
       "10-02-2013    54.070981\n",
       "10-04-2013    53.862213\n",
       "10-06-2013     0.000000\n",
       "10-08-2013    53.235908\n",
       "10-10-2013    53.235908\n",
       "10-12-2013     0.000000\n",
       "dtype: float64"
      ]
     },
     "execution_count": 7,
     "metadata": {},
     "output_type": "execute_result"
    }
   ],
   "source": [
    "#Print the null count of each variables of inp0 and inp1\n",
    "inp1.isnull().sum()/len(inp0)*100"
   ]
  },
  {
   "cell_type": "markdown",
   "metadata": {},
   "source": [
    "You are given another dataset named “Dress Sales”. Now if you observe the datatypes of the columns using ‘inp1.info()’ command, you can identify that there are certain columns defined as object data type though they primarily consist of numeric data.\n",
    "\n",
    "Now if you try and convert these object data type columns into numeric data type(float), you will come across an error message. Try to correct this error.\n",
    "\n",
    "\n",
    "\n",
    "\n",
    "\n"
   ]
  },
  {
   "cell_type": "code",
   "execution_count": 8,
   "metadata": {},
   "outputs": [
    {
     "data": {
      "text/plain": [
       "Dress_ID      float64\n",
       "29-08-2013      int64\n",
       "31-08-2013      int64\n",
       "09-02-2013      int64\n",
       "09-04-2013      int64\n",
       "09-06-2013      int64\n",
       "09-08-2013      int64\n",
       "09-10-2013      int64\n",
       "09-12-2013     object\n",
       "14-09-2013     object\n",
       "16-09-2013     object\n",
       "18-09-2013     object\n",
       "20-09-2013     object\n",
       "22-09-2013     object\n",
       "24-09-2013      int64\n",
       "26-09-2013    float64\n",
       "28-09-2013      int64\n",
       "30-09-2013    float64\n",
       "10-02-2013    float64\n",
       "10-04-2013    float64\n",
       "10-06-2013      int64\n",
       "10-08-2013    float64\n",
       "10-10-2013    float64\n",
       "10-12-2013      int64\n",
       "dtype: object"
      ]
     },
     "execution_count": 8,
     "metadata": {},
     "output_type": "execute_result"
    }
   ],
   "source": [
    "# Print the data types information of inp1 i.e. \"Dress Sales\" data.\n",
    "inp1.dtypes"
   ]
  },
  {
   "cell_type": "code",
   "execution_count": 9,
   "metadata": {},
   "outputs": [],
   "source": [
    "# Try to convert the object type into float type of data. YOU GET ERROR MESSAGE.\n",
    "inp1[\"09-12-2013\"] = inp1[\"09-12-2013\"].apply(pd.to_numeric, downcast='float',errors='coerce')\n",
    "inp1[\"14-09-2013\"] = inp1[\"14-09-2013\"].apply(pd.to_numeric, downcast='float', errors='coerce')\n",
    "inp1[\"16-09-2013\"] = inp1[\"16-09-2013\"].apply(pd.to_numeric, downcast='float', errors='coerce')\n",
    "inp1[\"18-09-2013\"] = inp1[\"18-09-2013\"].apply(pd.to_numeric, downcast='float', errors='coerce')\n",
    "inp1[\"20-09-2013\"] = inp1[\"20-09-2013\"].apply(pd.to_numeric, downcast='float', errors='coerce')\n",
    "inp1[\"22-09-2013\"] = inp1[\"22-09-2013\"].apply(pd.to_numeric, downcast='float', errors='coerce')"
   ]
  },
  {
   "cell_type": "code",
   "execution_count": 10,
   "metadata": {},
   "outputs": [],
   "source": [
    "# Do the required changes in the \"Dress Sales\" data set to get null values on string values.\n"
   ]
  },
  {
   "cell_type": "code",
   "execution_count": 11,
   "metadata": {},
   "outputs": [
    {
     "data": {
      "text/plain": [
       "Dress_ID       0.000000\n",
       "29-08-2013     0.000000\n",
       "31-08-2013     0.000000\n",
       "09-02-2013     0.000000\n",
       "09-04-2013     0.000000\n",
       "09-06-2013     0.000000\n",
       "09-08-2013     0.000000\n",
       "09-10-2013     0.000000\n",
       "09-12-2013     0.208768\n",
       "14-09-2013     0.208768\n",
       "16-09-2013     0.208768\n",
       "18-09-2013     0.208768\n",
       "20-09-2013     0.208768\n",
       "22-09-2013     0.208768\n",
       "24-09-2013     0.000000\n",
       "26-09-2013    46.346555\n",
       "28-09-2013     0.000000\n",
       "30-09-2013    53.653445\n",
       "10-02-2013    54.070981\n",
       "10-04-2013    53.862213\n",
       "10-06-2013     0.000000\n",
       "10-08-2013    53.235908\n",
       "10-10-2013    53.235908\n",
       "10-12-2013     0.000000\n",
       "dtype: float64"
      ]
     },
     "execution_count": 11,
     "metadata": {},
     "output_type": "execute_result"
    }
   ],
   "source": [
    "# Convert the object type columns in \"Dress Sales\" into float type of data type.\n",
    "(inp1.isnull().sum()/len(inp1))*100"
   ]
  },
  {
   "cell_type": "markdown",
   "metadata": {},
   "source": [
    "When you see the null counts in “Dress Sales” dataset after performing all the operations that have been mentioned in jupyter notebook, you will find that there are some columns in “Dress Sales” data where there are more than 40% of missing values. Based on your understanding of dealing with missing values do the following steps."
   ]
  },
  {
   "cell_type": "code",
   "execution_count": 12,
   "metadata": {},
   "outputs": [
    {
     "name": "stdout",
     "output_type": "stream",
     "text": [
      "<class 'pandas.core.frame.DataFrame'>\n",
      "RangeIndex: 479 entries, 0 to 478\n",
      "Data columns (total 24 columns):\n",
      " #   Column      Non-Null Count  Dtype  \n",
      "---  ------      --------------  -----  \n",
      " 0   Dress_ID    479 non-null    float64\n",
      " 1   29-08-2013  479 non-null    int64  \n",
      " 2   31-08-2013  479 non-null    int64  \n",
      " 3   09-02-2013  479 non-null    int64  \n",
      " 4   09-04-2013  479 non-null    int64  \n",
      " 5   09-06-2013  479 non-null    int64  \n",
      " 6   09-08-2013  479 non-null    int64  \n",
      " 7   09-10-2013  479 non-null    int64  \n",
      " 8   09-12-2013  478 non-null    float32\n",
      " 9   14-09-2013  478 non-null    float32\n",
      " 10  16-09-2013  478 non-null    float32\n",
      " 11  18-09-2013  478 non-null    float32\n",
      " 12  20-09-2013  478 non-null    float32\n",
      " 13  22-09-2013  478 non-null    float32\n",
      " 14  24-09-2013  479 non-null    int64  \n",
      " 15  26-09-2013  257 non-null    float64\n",
      " 16  28-09-2013  479 non-null    int64  \n",
      " 17  30-09-2013  222 non-null    float64\n",
      " 18  10-02-2013  220 non-null    float64\n",
      " 19  10-04-2013  221 non-null    float64\n",
      " 20  10-06-2013  479 non-null    int64  \n",
      " 21  10-08-2013  224 non-null    float64\n",
      " 22  10-10-2013  224 non-null    float64\n",
      " 23  10-12-2013  479 non-null    int64  \n",
      "dtypes: float32(6), float64(7), int64(11)\n",
      "memory usage: 78.7 KB\n"
     ]
    }
   ],
   "source": [
    "# Print the null percetange of each column of inp1.\n",
    "inp1.info()"
   ]
  },
  {
   "cell_type": "code",
   "execution_count": 13,
   "metadata": {},
   "outputs": [
    {
     "data": {
      "text/html": [
       "<div>\n",
       "<style scoped>\n",
       "    .dataframe tbody tr th:only-of-type {\n",
       "        vertical-align: middle;\n",
       "    }\n",
       "\n",
       "    .dataframe tbody tr th {\n",
       "        vertical-align: top;\n",
       "    }\n",
       "\n",
       "    .dataframe thead th {\n",
       "        text-align: right;\n",
       "    }\n",
       "</style>\n",
       "<table border=\"1\" class=\"dataframe\">\n",
       "  <thead>\n",
       "    <tr style=\"text-align: right;\">\n",
       "      <th></th>\n",
       "      <th>Dress_ID</th>\n",
       "      <th>29-08-2013</th>\n",
       "      <th>31-08-2013</th>\n",
       "      <th>09-02-2013</th>\n",
       "      <th>09-04-2013</th>\n",
       "      <th>09-06-2013</th>\n",
       "      <th>09-08-2013</th>\n",
       "      <th>09-10-2013</th>\n",
       "      <th>09-12-2013</th>\n",
       "      <th>14-09-2013</th>\n",
       "      <th>...</th>\n",
       "      <th>10-02-2013</th>\n",
       "      <th>10-04-2013</th>\n",
       "      <th>10-06-2013</th>\n",
       "      <th>10-08-2013</th>\n",
       "      <th>10-10-2013</th>\n",
       "      <th>10-12-2013</th>\n",
       "      <th>Summer</th>\n",
       "      <th>Autumn</th>\n",
       "      <th>Winter</th>\n",
       "      <th>Spring</th>\n",
       "    </tr>\n",
       "  </thead>\n",
       "  <tbody>\n",
       "    <tr>\n",
       "      <th>0</th>\n",
       "      <td>1.006033e+09</td>\n",
       "      <td>2114</td>\n",
       "      <td>2274</td>\n",
       "      <td>2491</td>\n",
       "      <td>2660</td>\n",
       "      <td>2727</td>\n",
       "      <td>2887</td>\n",
       "      <td>2930</td>\n",
       "      <td>3119.0</td>\n",
       "      <td>3204.0</td>\n",
       "      <td>...</td>\n",
       "      <td>3795.0</td>\n",
       "      <td>3832.0</td>\n",
       "      <td>3897</td>\n",
       "      <td>3923.0</td>\n",
       "      <td>3985.0</td>\n",
       "      <td>4048</td>\n",
       "      <td>13899</td>\n",
       "      <td>26857.0</td>\n",
       "      <td>9658.0</td>\n",
       "      <td>2660</td>\n",
       "    </tr>\n",
       "    <tr>\n",
       "      <th>1</th>\n",
       "      <td>1.212192e+09</td>\n",
       "      <td>151</td>\n",
       "      <td>275</td>\n",
       "      <td>570</td>\n",
       "      <td>750</td>\n",
       "      <td>813</td>\n",
       "      <td>1066</td>\n",
       "      <td>1164</td>\n",
       "      <td>1558.0</td>\n",
       "      <td>1756.0</td>\n",
       "      <td>...</td>\n",
       "      <td>3475.0</td>\n",
       "      <td>3654.0</td>\n",
       "      <td>3911</td>\n",
       "      <td>4024.0</td>\n",
       "      <td>4125.0</td>\n",
       "      <td>4277</td>\n",
       "      <td>6216</td>\n",
       "      <td>17311.0</td>\n",
       "      <td>6405.0</td>\n",
       "      <td>750</td>\n",
       "    </tr>\n",
       "    <tr>\n",
       "      <th>2</th>\n",
       "      <td>1.190381e+09</td>\n",
       "      <td>6</td>\n",
       "      <td>7</td>\n",
       "      <td>7</td>\n",
       "      <td>7</td>\n",
       "      <td>8</td>\n",
       "      <td>8</td>\n",
       "      <td>9</td>\n",
       "      <td>10.0</td>\n",
       "      <td>10.0</td>\n",
       "      <td>...</td>\n",
       "      <td>11.0</td>\n",
       "      <td>11.0</td>\n",
       "      <td>11</td>\n",
       "      <td>11.0</td>\n",
       "      <td>11.0</td>\n",
       "      <td>11</td>\n",
       "      <td>40</td>\n",
       "      <td>82.0</td>\n",
       "      <td>28.0</td>\n",
       "      <td>7</td>\n",
       "    </tr>\n",
       "    <tr>\n",
       "      <th>3</th>\n",
       "      <td>9.660060e+08</td>\n",
       "      <td>1005</td>\n",
       "      <td>1128</td>\n",
       "      <td>1326</td>\n",
       "      <td>1455</td>\n",
       "      <td>1507</td>\n",
       "      <td>1621</td>\n",
       "      <td>1637</td>\n",
       "      <td>1723.0</td>\n",
       "      <td>1746.0</td>\n",
       "      <td>...</td>\n",
       "      <td>1929.0</td>\n",
       "      <td>1941.0</td>\n",
       "      <td>1952</td>\n",
       "      <td>1955.0</td>\n",
       "      <td>1959.0</td>\n",
       "      <td>1963</td>\n",
       "      <td>7213</td>\n",
       "      <td>14411.0</td>\n",
       "      <td>5012.0</td>\n",
       "      <td>1455</td>\n",
       "    </tr>\n",
       "    <tr>\n",
       "      <th>4</th>\n",
       "      <td>8.763395e+08</td>\n",
       "      <td>996</td>\n",
       "      <td>1175</td>\n",
       "      <td>1304</td>\n",
       "      <td>1396</td>\n",
       "      <td>1432</td>\n",
       "      <td>1559</td>\n",
       "      <td>1570</td>\n",
       "      <td>1638.0</td>\n",
       "      <td>1655.0</td>\n",
       "      <td>...</td>\n",
       "      <td>2387.0</td>\n",
       "      <td>2459.0</td>\n",
       "      <td>2544</td>\n",
       "      <td>2614.0</td>\n",
       "      <td>2693.0</td>\n",
       "      <td>2736</td>\n",
       "      <td>7706</td>\n",
       "      <td>14676.0</td>\n",
       "      <td>5678.0</td>\n",
       "      <td>1396</td>\n",
       "    </tr>\n",
       "  </tbody>\n",
       "</table>\n",
       "<p>5 rows × 28 columns</p>\n",
       "</div>"
      ],
      "text/plain": [
       "       Dress_ID  29-08-2013  31-08-2013  09-02-2013  09-04-2013  09-06-2013  \\\n",
       "0  1.006033e+09        2114        2274        2491        2660        2727   \n",
       "1  1.212192e+09         151         275         570         750         813   \n",
       "2  1.190381e+09           6           7           7           7           8   \n",
       "3  9.660060e+08        1005        1128        1326        1455        1507   \n",
       "4  8.763395e+08         996        1175        1304        1396        1432   \n",
       "\n",
       "   09-08-2013  09-10-2013  09-12-2013  14-09-2013  ...  10-02-2013  \\\n",
       "0        2887        2930      3119.0      3204.0  ...      3795.0   \n",
       "1        1066        1164      1558.0      1756.0  ...      3475.0   \n",
       "2           8           9        10.0        10.0  ...        11.0   \n",
       "3        1621        1637      1723.0      1746.0  ...      1929.0   \n",
       "4        1559        1570      1638.0      1655.0  ...      2387.0   \n",
       "\n",
       "   10-04-2013  10-06-2013  10-08-2013  10-10-2013  10-12-2013  Summer  \\\n",
       "0      3832.0        3897      3923.0      3985.0        4048   13899   \n",
       "1      3654.0        3911      4024.0      4125.0        4277    6216   \n",
       "2        11.0          11        11.0        11.0          11      40   \n",
       "3      1941.0        1952      1955.0      1959.0        1963    7213   \n",
       "4      2459.0        2544      2614.0      2693.0        2736    7706   \n",
       "\n",
       "    Autumn  Winter  Spring  \n",
       "0  26857.0  9658.0    2660  \n",
       "1  17311.0  6405.0     750  \n",
       "2     82.0    28.0       7  \n",
       "3  14411.0  5012.0    1455  \n",
       "4  14676.0  5678.0    1396  \n",
       "\n",
       "[5 rows x 28 columns]"
      ]
     },
     "execution_count": 13,
     "metadata": {},
     "output_type": "execute_result"
    }
   ],
   "source": [
    "# Drop the columns in \"Dress Sales\" which have more than 40% of missing values.\n",
    "# Create the four seasons columns in inp1, according to the above criteria.\n",
    "inp1[\"Summer\"]=inp1[\"29-08-2013\"]+inp1[\"31-08-2013\"]+inp1[\"09-06-2013\"]+inp1[\"09-08-2013\"]+inp1[\"10-06-2013\"]\n",
    "inp1[\"Autumn\"]=inp1[\"09-10-2013\"]+inp1[\"14-09-2013\"]+inp1[\"16-09-2013\"]+inp1[\"18-09-2013\"]+inp1[\"20-09-2013\"]+inp1[\"22-09-2013\"]+inp1[\"24-09-2013\"]+inp1[\"28-09-2013\"]\n",
    "inp1[\"Winter\"]=inp1[\"09-02-2013\"]+inp1[\"09-12-2013\"]+inp1[\"10-12-2013\"]\n",
    "inp1[\"Spring\"]=inp1[\"09-04-2013\"]\n",
    "inp1.head()"
   ]
  },
  {
   "cell_type": "markdown",
   "metadata": {},
   "source": [
    "You should categorise the dates into seasons in “Dress Sales” data to simplify the analysis according to the following criteria:\n",
    "- June, July and August: Summer.\n",
    "- September, October and November: Autumn.\n",
    "- December, January and February: WInter.\n",
    "- March, April and May: Spring.\n",
    "\n",
    "\n"
   ]
  },
  {
   "cell_type": "code",
   "execution_count": 14,
   "metadata": {},
   "outputs": [],
   "source": [
    "# Create the four seasons columns in inp1, according to the above criteria.\n"
   ]
  },
  {
   "cell_type": "code",
   "execution_count": 15,
   "metadata": {},
   "outputs": [],
   "source": [
    "# calculate the sum of sales in each seasons in inp1 i.e. \"Dress Sales\".\n"
   ]
  },
  {
   "cell_type": "markdown",
   "metadata": {},
   "source": [
    "Now let's merge inp1 with inp0 with left join manner, so that the information of inp0 should remain intact."
   ]
  },
  {
   "cell_type": "code",
   "execution_count": 16,
   "metadata": {},
   "outputs": [
    {
     "data": {
      "text/html": [
       "<div>\n",
       "<style scoped>\n",
       "    .dataframe tbody tr th:only-of-type {\n",
       "        vertical-align: middle;\n",
       "    }\n",
       "\n",
       "    .dataframe tbody tr th {\n",
       "        vertical-align: top;\n",
       "    }\n",
       "\n",
       "    .dataframe thead th {\n",
       "        text-align: right;\n",
       "    }\n",
       "</style>\n",
       "<table border=\"1\" class=\"dataframe\">\n",
       "  <thead>\n",
       "    <tr style=\"text-align: right;\">\n",
       "      <th></th>\n",
       "      <th>Dress_ID</th>\n",
       "      <th>Style</th>\n",
       "      <th>Price</th>\n",
       "      <th>Rating</th>\n",
       "      <th>Size</th>\n",
       "      <th>Season</th>\n",
       "      <th>NeckLine</th>\n",
       "      <th>SleeveLength</th>\n",
       "      <th>Material</th>\n",
       "      <th>FabricType</th>\n",
       "      <th>...</th>\n",
       "      <th>10-02-2013</th>\n",
       "      <th>10-04-2013</th>\n",
       "      <th>10-06-2013</th>\n",
       "      <th>10-08-2013</th>\n",
       "      <th>10-10-2013</th>\n",
       "      <th>10-12-2013</th>\n",
       "      <th>Summer</th>\n",
       "      <th>Autumn</th>\n",
       "      <th>Winter</th>\n",
       "      <th>Spring</th>\n",
       "    </tr>\n",
       "  </thead>\n",
       "  <tbody>\n",
       "    <tr>\n",
       "      <th>0</th>\n",
       "      <td>1006032852</td>\n",
       "      <td>Sexy</td>\n",
       "      <td>Low</td>\n",
       "      <td>4.6</td>\n",
       "      <td>Medium</td>\n",
       "      <td>Summer</td>\n",
       "      <td>o-neck</td>\n",
       "      <td>sleevless</td>\n",
       "      <td>NaN</td>\n",
       "      <td>chiffon</td>\n",
       "      <td>...</td>\n",
       "      <td>3795.0</td>\n",
       "      <td>3832.0</td>\n",
       "      <td>3897</td>\n",
       "      <td>3923.0</td>\n",
       "      <td>3985.0</td>\n",
       "      <td>4048</td>\n",
       "      <td>13899</td>\n",
       "      <td>26857.0</td>\n",
       "      <td>9658.0</td>\n",
       "      <td>2660</td>\n",
       "    </tr>\n",
       "    <tr>\n",
       "      <th>1</th>\n",
       "      <td>1212192089</td>\n",
       "      <td>Casual</td>\n",
       "      <td>Low</td>\n",
       "      <td>0.0</td>\n",
       "      <td>Large</td>\n",
       "      <td>Summer</td>\n",
       "      <td>o-neck</td>\n",
       "      <td>Petal</td>\n",
       "      <td>microfiber</td>\n",
       "      <td>NaN</td>\n",
       "      <td>...</td>\n",
       "      <td>3475.0</td>\n",
       "      <td>3654.0</td>\n",
       "      <td>3911</td>\n",
       "      <td>4024.0</td>\n",
       "      <td>4125.0</td>\n",
       "      <td>4277</td>\n",
       "      <td>6216</td>\n",
       "      <td>17311.0</td>\n",
       "      <td>6405.0</td>\n",
       "      <td>750</td>\n",
       "    </tr>\n",
       "    <tr>\n",
       "      <th>2</th>\n",
       "      <td>1190380701</td>\n",
       "      <td>vintage</td>\n",
       "      <td>High</td>\n",
       "      <td>0.0</td>\n",
       "      <td>Large</td>\n",
       "      <td>Automn</td>\n",
       "      <td>o-neck</td>\n",
       "      <td>full</td>\n",
       "      <td>polyster</td>\n",
       "      <td>NaN</td>\n",
       "      <td>...</td>\n",
       "      <td>11.0</td>\n",
       "      <td>11.0</td>\n",
       "      <td>11</td>\n",
       "      <td>11.0</td>\n",
       "      <td>11.0</td>\n",
       "      <td>11</td>\n",
       "      <td>40</td>\n",
       "      <td>82.0</td>\n",
       "      <td>28.0</td>\n",
       "      <td>7</td>\n",
       "    </tr>\n",
       "    <tr>\n",
       "      <th>3</th>\n",
       "      <td>966005983</td>\n",
       "      <td>Brief</td>\n",
       "      <td>Average</td>\n",
       "      <td>4.6</td>\n",
       "      <td>Large</td>\n",
       "      <td>Spring</td>\n",
       "      <td>o-neck</td>\n",
       "      <td>full</td>\n",
       "      <td>silk</td>\n",
       "      <td>chiffon</td>\n",
       "      <td>...</td>\n",
       "      <td>1929.0</td>\n",
       "      <td>1941.0</td>\n",
       "      <td>1952</td>\n",
       "      <td>1955.0</td>\n",
       "      <td>1959.0</td>\n",
       "      <td>1963</td>\n",
       "      <td>7213</td>\n",
       "      <td>14411.0</td>\n",
       "      <td>5012.0</td>\n",
       "      <td>1455</td>\n",
       "    </tr>\n",
       "    <tr>\n",
       "      <th>4</th>\n",
       "      <td>876339541</td>\n",
       "      <td>cute</td>\n",
       "      <td>Low</td>\n",
       "      <td>4.5</td>\n",
       "      <td>Medium</td>\n",
       "      <td>Summer</td>\n",
       "      <td>o-neck</td>\n",
       "      <td>butterfly</td>\n",
       "      <td>chiffonfabric</td>\n",
       "      <td>chiffon</td>\n",
       "      <td>...</td>\n",
       "      <td>2387.0</td>\n",
       "      <td>2459.0</td>\n",
       "      <td>2544</td>\n",
       "      <td>2614.0</td>\n",
       "      <td>2693.0</td>\n",
       "      <td>2736</td>\n",
       "      <td>7706</td>\n",
       "      <td>14676.0</td>\n",
       "      <td>5678.0</td>\n",
       "      <td>1396</td>\n",
       "    </tr>\n",
       "  </tbody>\n",
       "</table>\n",
       "<p>5 rows × 40 columns</p>\n",
       "</div>"
      ],
      "text/plain": [
       "     Dress_ID    Style    Price  Rating    Size  Season NeckLine SleeveLength  \\\n",
       "0  1006032852     Sexy      Low     4.6  Medium  Summer   o-neck    sleevless   \n",
       "1  1212192089   Casual      Low     0.0   Large  Summer   o-neck        Petal   \n",
       "2  1190380701  vintage     High     0.0   Large  Automn   o-neck         full   \n",
       "3   966005983    Brief  Average     4.6   Large  Spring   o-neck         full   \n",
       "4   876339541     cute      Low     4.5  Medium  Summer   o-neck    butterfly   \n",
       "\n",
       "        Material FabricType  ... 10-02-2013 10-04-2013  10-06-2013  \\\n",
       "0            NaN    chiffon  ...     3795.0     3832.0        3897   \n",
       "1     microfiber        NaN  ...     3475.0     3654.0        3911   \n",
       "2       polyster        NaN  ...       11.0       11.0          11   \n",
       "3           silk    chiffon  ...     1929.0     1941.0        1952   \n",
       "4  chiffonfabric    chiffon  ...     2387.0     2459.0        2544   \n",
       "\n",
       "   10-08-2013  10-10-2013  10-12-2013  Summer   Autumn  Winter  Spring  \n",
       "0      3923.0      3985.0        4048   13899  26857.0  9658.0    2660  \n",
       "1      4024.0      4125.0        4277    6216  17311.0  6405.0     750  \n",
       "2        11.0        11.0          11      40     82.0    28.0       7  \n",
       "3      1955.0      1959.0        1963    7213  14411.0  5012.0    1455  \n",
       "4      2614.0      2693.0        2736    7706  14676.0  5678.0    1396  \n",
       "\n",
       "[5 rows x 40 columns]"
      ]
     },
     "execution_count": 16,
     "metadata": {},
     "output_type": "execute_result"
    }
   ],
   "source": [
    "# Merge inp0 with inp1 into inp0. this is also called left merge.\n",
    "inp0 = pd.merge(left=inp0,right=inp1, how='left', left_on='Dress_ID', right_on='Dress_ID')\n",
    "inp0.head()"
   ]
  },
  {
   "cell_type": "code",
   "execution_count": 17,
   "metadata": {},
   "outputs": [
    {
     "data": {
      "text/plain": [
       "Dress_ID            0\n",
       "Style               0\n",
       "Price               2\n",
       "Rating              0\n",
       "Size                0\n",
       "Season              2\n",
       "NeckLine            3\n",
       "SleeveLength        2\n",
       "Material          119\n",
       "FabricType        256\n",
       "Decoration        224\n",
       "Pattern Type      102\n",
       "Recommendation      0\n",
       "Summer              0\n",
       "Autumn              2\n",
       "Winter              1\n",
       "Spring              0\n",
       "dtype: int64"
      ]
     },
     "execution_count": 17,
     "metadata": {},
     "output_type": "execute_result"
    }
   ],
   "source": [
    "# Now Drop the Date columns from inp0 as it is already combined into four seasons.\n",
    "inp0.drop(inp0.loc[:,'29-08-2013':'10-12-2013'].columns, axis= 1, inplace= True)\n",
    "inp0.isnull().sum()"
   ]
  },
  {
   "cell_type": "markdown",
   "metadata": {},
   "source": [
    "Print the null count of inp0 to get the idea about the missing values in data set."
   ]
  },
  {
   "cell_type": "code",
   "execution_count": 18,
   "metadata": {},
   "outputs": [],
   "source": [
    "# Print the null count of each columns in inp0 dataframe i.e. combined data frame of inp0 and inp1 without date columns.\n"
   ]
  },
  {
   "cell_type": "markdown",
   "metadata": {},
   "source": [
    "You can see that there are two types of variables one with a large number of missing values and another is very less number of missing values. These two columns can be categorized as:\n",
    "\n",
    "Type-1: Missing values are very less (around 2 or 3 missing values): Price, Season, NeckLine, SleeveLength, Winter and Autumn. \n",
    "\n",
    "Type-2: Missing values are large in numbers (more than 15%): Material, FabricType, Decoration and Pattern Type.\n",
    "\n"
   ]
  },
  {
   "cell_type": "code",
   "execution_count": 19,
   "metadata": {},
   "outputs": [],
   "source": [
    "# Deal with the missing values of Type-1 columns: Price, Season, NeckLine, SleeveLength, Winter and Autumn.\n",
    "# Deal with the missing values of Type-1 columns: Price, Season, NeckLine, SleeveLength, Winter and Autumn.\n",
    "inp0 = inp0[~inp0.Price.isnull()]\n",
    "\n",
    "inp0 = inp0[~inp0.Season.isnull()]\n",
    "\n",
    "inp0 = inp0[~inp0.NeckLine.isnull()]\n",
    "\n",
    "inp0 = inp0[~inp0.SleeveLength.isnull()]\n",
    "\n",
    "inp0 = inp0[~inp0.Winter.isnull()]\n",
    "\n",
    "inp0 = inp0[~inp0.Autumn.isnull()]"
   ]
  },
  {
   "cell_type": "code",
   "execution_count": 20,
   "metadata": {},
   "outputs": [],
   "source": [
    "# Deal with the missing values for Type-2 columns: Material, FabricType, Decoration and Pattern Type.\n",
    "inp0.Material= inp0.Material.replace(np.nan, \"Missing\")\n",
    "\n",
    "inp0.FabricType= inp0.FabricType.replace(np.nan, \"Missing\")\n",
    "\n",
    "inp0.Decoration= inp0.Decoration.replace(np.nan, \"Missing\")\n",
    "\n",
    "inp0['Pattern Type']= inp0['Pattern Type'].replace(np.nan, \"Missing\")"
   ]
  },
  {
   "cell_type": "markdown",
   "metadata": {},
   "source": [
    "### Standardise value "
   ]
  },
  {
   "cell_type": "markdown",
   "metadata": {},
   "source": [
    "In the given dataset, there are certain discrepancies with the categorical names such as irregular spellings. Choose the correct option of columns with irregular categories and update them.\n",
    " \n",
    "- Season, NeckLine\n",
    "- Price, Material\n",
    "- fabricType, Decoration\n",
    "- Season, SleeveLength\n"
   ]
  },
  {
   "cell_type": "code",
   "execution_count": 21,
   "metadata": {},
   "outputs": [
    {
     "data": {
      "text/html": [
       "<div>\n",
       "<style scoped>\n",
       "    .dataframe tbody tr th:only-of-type {\n",
       "        vertical-align: middle;\n",
       "    }\n",
       "\n",
       "    .dataframe tbody tr th {\n",
       "        vertical-align: top;\n",
       "    }\n",
       "\n",
       "    .dataframe thead th {\n",
       "        text-align: right;\n",
       "    }\n",
       "</style>\n",
       "<table border=\"1\" class=\"dataframe\">\n",
       "  <thead>\n",
       "    <tr style=\"text-align: right;\">\n",
       "      <th></th>\n",
       "      <th>Dress_ID</th>\n",
       "      <th>Style</th>\n",
       "      <th>Price</th>\n",
       "      <th>Rating</th>\n",
       "      <th>Size</th>\n",
       "      <th>Season</th>\n",
       "      <th>NeckLine</th>\n",
       "      <th>SleeveLength</th>\n",
       "      <th>Material</th>\n",
       "      <th>FabricType</th>\n",
       "      <th>Decoration</th>\n",
       "      <th>Pattern Type</th>\n",
       "      <th>Recommendation</th>\n",
       "      <th>Summer</th>\n",
       "      <th>Autumn</th>\n",
       "      <th>Winter</th>\n",
       "      <th>Spring</th>\n",
       "    </tr>\n",
       "  </thead>\n",
       "  <tbody>\n",
       "    <tr>\n",
       "      <th>0</th>\n",
       "      <td>1006032852</td>\n",
       "      <td>Sexy</td>\n",
       "      <td>Low</td>\n",
       "      <td>4.6</td>\n",
       "      <td>Medium</td>\n",
       "      <td>Summer</td>\n",
       "      <td>o-neck</td>\n",
       "      <td>sleevless</td>\n",
       "      <td>Missing</td>\n",
       "      <td>chiffon</td>\n",
       "      <td>ruffles</td>\n",
       "      <td>animal</td>\n",
       "      <td>1</td>\n",
       "      <td>13899</td>\n",
       "      <td>26857.0</td>\n",
       "      <td>9658.0</td>\n",
       "      <td>2660</td>\n",
       "    </tr>\n",
       "    <tr>\n",
       "      <th>1</th>\n",
       "      <td>1212192089</td>\n",
       "      <td>Casual</td>\n",
       "      <td>Low</td>\n",
       "      <td>0.0</td>\n",
       "      <td>Large</td>\n",
       "      <td>Summer</td>\n",
       "      <td>o-neck</td>\n",
       "      <td>Petal</td>\n",
       "      <td>microfiber</td>\n",
       "      <td>Missing</td>\n",
       "      <td>ruffles</td>\n",
       "      <td>animal</td>\n",
       "      <td>0</td>\n",
       "      <td>6216</td>\n",
       "      <td>17311.0</td>\n",
       "      <td>6405.0</td>\n",
       "      <td>750</td>\n",
       "    </tr>\n",
       "    <tr>\n",
       "      <th>2</th>\n",
       "      <td>1190380701</td>\n",
       "      <td>vintage</td>\n",
       "      <td>High</td>\n",
       "      <td>0.0</td>\n",
       "      <td>Large</td>\n",
       "      <td>Automn</td>\n",
       "      <td>o-neck</td>\n",
       "      <td>full</td>\n",
       "      <td>polyster</td>\n",
       "      <td>Missing</td>\n",
       "      <td>Missing</td>\n",
       "      <td>print</td>\n",
       "      <td>0</td>\n",
       "      <td>40</td>\n",
       "      <td>82.0</td>\n",
       "      <td>28.0</td>\n",
       "      <td>7</td>\n",
       "    </tr>\n",
       "    <tr>\n",
       "      <th>3</th>\n",
       "      <td>966005983</td>\n",
       "      <td>Brief</td>\n",
       "      <td>Average</td>\n",
       "      <td>4.6</td>\n",
       "      <td>Large</td>\n",
       "      <td>Spring</td>\n",
       "      <td>o-neck</td>\n",
       "      <td>full</td>\n",
       "      <td>silk</td>\n",
       "      <td>chiffon</td>\n",
       "      <td>embroidary</td>\n",
       "      <td>print</td>\n",
       "      <td>1</td>\n",
       "      <td>7213</td>\n",
       "      <td>14411.0</td>\n",
       "      <td>5012.0</td>\n",
       "      <td>1455</td>\n",
       "    </tr>\n",
       "    <tr>\n",
       "      <th>4</th>\n",
       "      <td>876339541</td>\n",
       "      <td>cute</td>\n",
       "      <td>Low</td>\n",
       "      <td>4.5</td>\n",
       "      <td>Medium</td>\n",
       "      <td>Summer</td>\n",
       "      <td>o-neck</td>\n",
       "      <td>butterfly</td>\n",
       "      <td>chiffonfabric</td>\n",
       "      <td>chiffon</td>\n",
       "      <td>bow</td>\n",
       "      <td>dot</td>\n",
       "      <td>0</td>\n",
       "      <td>7706</td>\n",
       "      <td>14676.0</td>\n",
       "      <td>5678.0</td>\n",
       "      <td>1396</td>\n",
       "    </tr>\n",
       "  </tbody>\n",
       "</table>\n",
       "</div>"
      ],
      "text/plain": [
       "     Dress_ID    Style    Price  Rating    Size  Season NeckLine SleeveLength  \\\n",
       "0  1006032852     Sexy      Low     4.6  Medium  Summer   o-neck    sleevless   \n",
       "1  1212192089   Casual      Low     0.0   Large  Summer   o-neck        Petal   \n",
       "2  1190380701  vintage     High     0.0   Large  Automn   o-neck         full   \n",
       "3   966005983    Brief  Average     4.6   Large  Spring   o-neck         full   \n",
       "4   876339541     cute      Low     4.5  Medium  Summer   o-neck    butterfly   \n",
       "\n",
       "        Material FabricType  Decoration Pattern Type  Recommendation  Summer  \\\n",
       "0        Missing    chiffon     ruffles       animal               1   13899   \n",
       "1     microfiber    Missing     ruffles       animal               0    6216   \n",
       "2       polyster    Missing     Missing        print               0      40   \n",
       "3           silk    chiffon  embroidary        print               1    7213   \n",
       "4  chiffonfabric    chiffon         bow          dot               0    7706   \n",
       "\n",
       "    Autumn  Winter  Spring  \n",
       "0  26857.0  9658.0    2660  \n",
       "1  17311.0  6405.0     750  \n",
       "2     82.0    28.0       7  \n",
       "3  14411.0  5012.0    1455  \n",
       "4  14676.0  5678.0    1396  "
      ]
     },
     "execution_count": 21,
     "metadata": {},
     "output_type": "execute_result"
    }
   ],
   "source": [
    "#correcting the spellings.\n",
    "inp0.head()"
   ]
  },
  {
   "cell_type": "code",
   "execution_count": 22,
   "metadata": {},
   "outputs": [],
   "source": [
    "#correcting the Spellings.\n",
    "inp0.Season= inp0.Season.replace('Automn', \"Autumn\")\n",
    "\n",
    "inp0.Season= inp0.Season.replace('spring', \"Spring\")\n",
    "\n",
    "inp0.Season= inp0.Season.replace('winter', \"Winter\")"
   ]
  },
  {
   "cell_type": "code",
   "execution_count": 23,
   "metadata": {},
   "outputs": [],
   "source": [
    "inp0.SleeveLength= inp0.SleeveLength.replace(['cap-sleeves', 'capsleeves'], \"cap sleeves\")\n",
    "\n",
    "inp0.SleeveLength= inp0.SleeveLength.replace('full', \"full sleeves\")\n",
    "\n",
    "inp0.SleeveLength= inp0.SleeveLength.replace(['half','halfsleeve'], \"half sleeves\")\n",
    "\n",
    "inp0.SleeveLength= inp0.SleeveLength.replace(['sleevless', 'sleeevless', 'sleeveless', 'sleveless'], \"sleeve less\")\n",
    "\n",
    "inp0.SleeveLength= inp0.SleeveLength.replace(['threequarter','threequater', 'thressqatar'], \"three quater\")\n",
    "\n",
    "inp0.SleeveLength= inp0.SleeveLength.replace(['turndowncollor','urndowncollor'], \"turn down collar\")"
   ]
  },
  {
   "cell_type": "code",
   "execution_count": 24,
   "metadata": {},
   "outputs": [
    {
     "data": {
      "text/html": [
       "<div>\n",
       "<style scoped>\n",
       "    .dataframe tbody tr th:only-of-type {\n",
       "        vertical-align: middle;\n",
       "    }\n",
       "\n",
       "    .dataframe tbody tr th {\n",
       "        vertical-align: top;\n",
       "    }\n",
       "\n",
       "    .dataframe thead th {\n",
       "        text-align: right;\n",
       "    }\n",
       "</style>\n",
       "<table border=\"1\" class=\"dataframe\">\n",
       "  <thead>\n",
       "    <tr style=\"text-align: right;\">\n",
       "      <th></th>\n",
       "      <th>Dress_ID</th>\n",
       "      <th>Style</th>\n",
       "      <th>Price</th>\n",
       "      <th>Rating</th>\n",
       "      <th>Size</th>\n",
       "      <th>Season</th>\n",
       "      <th>NeckLine</th>\n",
       "      <th>SleeveLength</th>\n",
       "      <th>Material</th>\n",
       "      <th>FabricType</th>\n",
       "      <th>Decoration</th>\n",
       "      <th>Pattern Type</th>\n",
       "      <th>Recommendation</th>\n",
       "      <th>Summer</th>\n",
       "      <th>Autumn</th>\n",
       "      <th>Winter</th>\n",
       "      <th>Spring</th>\n",
       "    </tr>\n",
       "  </thead>\n",
       "  <tbody>\n",
       "    <tr>\n",
       "      <th>0</th>\n",
       "      <td>1006032852</td>\n",
       "      <td>Sexy</td>\n",
       "      <td>Low</td>\n",
       "      <td>4.6</td>\n",
       "      <td>Medium</td>\n",
       "      <td>Summer</td>\n",
       "      <td>o-neck</td>\n",
       "      <td>sleeve less</td>\n",
       "      <td>Missing</td>\n",
       "      <td>chiffon</td>\n",
       "      <td>ruffles</td>\n",
       "      <td>animal</td>\n",
       "      <td>1</td>\n",
       "      <td>13899</td>\n",
       "      <td>26857.0</td>\n",
       "      <td>9658.0</td>\n",
       "      <td>2660</td>\n",
       "    </tr>\n",
       "    <tr>\n",
       "      <th>1</th>\n",
       "      <td>1212192089</td>\n",
       "      <td>Casual</td>\n",
       "      <td>Low</td>\n",
       "      <td>0.0</td>\n",
       "      <td>Large</td>\n",
       "      <td>Summer</td>\n",
       "      <td>o-neck</td>\n",
       "      <td>Petal</td>\n",
       "      <td>microfiber</td>\n",
       "      <td>Missing</td>\n",
       "      <td>ruffles</td>\n",
       "      <td>animal</td>\n",
       "      <td>0</td>\n",
       "      <td>6216</td>\n",
       "      <td>17311.0</td>\n",
       "      <td>6405.0</td>\n",
       "      <td>750</td>\n",
       "    </tr>\n",
       "    <tr>\n",
       "      <th>2</th>\n",
       "      <td>1190380701</td>\n",
       "      <td>vintage</td>\n",
       "      <td>High</td>\n",
       "      <td>0.0</td>\n",
       "      <td>Large</td>\n",
       "      <td>Autumn</td>\n",
       "      <td>o-neck</td>\n",
       "      <td>full sleeves</td>\n",
       "      <td>polyster</td>\n",
       "      <td>Missing</td>\n",
       "      <td>Missing</td>\n",
       "      <td>print</td>\n",
       "      <td>0</td>\n",
       "      <td>40</td>\n",
       "      <td>82.0</td>\n",
       "      <td>28.0</td>\n",
       "      <td>7</td>\n",
       "    </tr>\n",
       "    <tr>\n",
       "      <th>3</th>\n",
       "      <td>966005983</td>\n",
       "      <td>Brief</td>\n",
       "      <td>Average</td>\n",
       "      <td>4.6</td>\n",
       "      <td>Large</td>\n",
       "      <td>Spring</td>\n",
       "      <td>o-neck</td>\n",
       "      <td>full sleeves</td>\n",
       "      <td>silk</td>\n",
       "      <td>chiffon</td>\n",
       "      <td>embroidary</td>\n",
       "      <td>print</td>\n",
       "      <td>1</td>\n",
       "      <td>7213</td>\n",
       "      <td>14411.0</td>\n",
       "      <td>5012.0</td>\n",
       "      <td>1455</td>\n",
       "    </tr>\n",
       "    <tr>\n",
       "      <th>4</th>\n",
       "      <td>876339541</td>\n",
       "      <td>cute</td>\n",
       "      <td>Low</td>\n",
       "      <td>4.5</td>\n",
       "      <td>Medium</td>\n",
       "      <td>Summer</td>\n",
       "      <td>o-neck</td>\n",
       "      <td>butterfly</td>\n",
       "      <td>chiffonfabric</td>\n",
       "      <td>chiffon</td>\n",
       "      <td>bow</td>\n",
       "      <td>dot</td>\n",
       "      <td>0</td>\n",
       "      <td>7706</td>\n",
       "      <td>14676.0</td>\n",
       "      <td>5678.0</td>\n",
       "      <td>1396</td>\n",
       "    </tr>\n",
       "  </tbody>\n",
       "</table>\n",
       "</div>"
      ],
      "text/plain": [
       "     Dress_ID    Style    Price  Rating    Size  Season NeckLine  \\\n",
       "0  1006032852     Sexy      Low     4.6  Medium  Summer   o-neck   \n",
       "1  1212192089   Casual      Low     0.0   Large  Summer   o-neck   \n",
       "2  1190380701  vintage     High     0.0   Large  Autumn   o-neck   \n",
       "3   966005983    Brief  Average     4.6   Large  Spring   o-neck   \n",
       "4   876339541     cute      Low     4.5  Medium  Summer   o-neck   \n",
       "\n",
       "   SleeveLength       Material FabricType  Decoration Pattern Type  \\\n",
       "0   sleeve less        Missing    chiffon     ruffles       animal   \n",
       "1         Petal     microfiber    Missing     ruffles       animal   \n",
       "2  full sleeves       polyster    Missing     Missing        print   \n",
       "3  full sleeves           silk    chiffon  embroidary        print   \n",
       "4     butterfly  chiffonfabric    chiffon         bow          dot   \n",
       "\n",
       "   Recommendation  Summer   Autumn  Winter  Spring  \n",
       "0               1   13899  26857.0  9658.0    2660  \n",
       "1               0    6216  17311.0  6405.0     750  \n",
       "2               0      40     82.0    28.0       7  \n",
       "3               1    7213  14411.0  5012.0    1455  \n",
       "4               0    7706  14676.0  5678.0    1396  "
      ]
     },
     "execution_count": 24,
     "metadata": {},
     "output_type": "execute_result"
    }
   ],
   "source": [
    "inp0.head()"
   ]
  },
  {
   "cell_type": "markdown",
   "metadata": {},
   "source": [
    "## Univariate Analysis "
   ]
  },
  {
   "cell_type": "markdown",
   "metadata": {},
   "source": [
    "### Categorical Unordered Univariate Analysis\n",
    " "
   ]
  },
  {
   "cell_type": "markdown",
   "metadata": {},
   "source": [
    "There is a column named ‘Style’ in ‘Attribute Dataset’ which consists of the different style categories of the women apparels. Certain categories whose total sale is less than 50000 across all the seasons is considered under one single category as ‘Others’.\n"
   ]
  },
  {
   "cell_type": "markdown",
   "metadata": {},
   "source": [
    "Which of the following categories in ‘Style’ column can be grouped into ‘Others’ category? and perform the grouping operation in the notebook for further analysis.\n",
    "- Flare, fashion\n",
    "- Novelty, bohemian\n",
    "- OL, fashion, work\n",
    "- Novelty, fashion, Flare\n"
   ]
  },
  {
   "cell_type": "code",
   "execution_count": 25,
   "metadata": {},
   "outputs": [
    {
     "data": {
      "text/plain": [
       "Casual      217\n",
       "Sexy         65\n",
       "party        48\n",
       "cute         43\n",
       "vintage      25\n",
       "bohemian     23\n",
       "Brief        17\n",
       "work         17\n",
       "sexy          6\n",
       "Novelty       6\n",
       "Flare         2\n",
       "OL            1\n",
       "fashion       1\n",
       "Name: Style, dtype: int64"
      ]
     },
     "execution_count": 25,
     "metadata": {},
     "output_type": "execute_result"
    }
   ],
   "source": [
    "# Group \"Style\" categories into \"Others\" which have less than 50000 sales across all the seasons.\n",
    "\n",
    "inp0['Style'].value_counts()\n",
    "#inp1.shape"
   ]
  },
  {
   "cell_type": "code",
   "execution_count": 26,
   "metadata": {},
   "outputs": [
    {
     "name": "stderr",
     "output_type": "stream",
     "text": [
      "C:\\Users\\HP\\anaconda3\\lib\\site-packages\\ipykernel_launcher.py:1: FutureWarning: Indexing with multiple keys (implicitly converted to a tuple of keys) will be deprecated, use a list instead.\n",
      "  \"\"\"Entry point for launching an IPython kernel.\n"
     ]
    },
    {
     "data": {
      "text/html": [
       "<div>\n",
       "<style scoped>\n",
       "    .dataframe tbody tr th:only-of-type {\n",
       "        vertical-align: middle;\n",
       "    }\n",
       "\n",
       "    .dataframe tbody tr th {\n",
       "        vertical-align: top;\n",
       "    }\n",
       "\n",
       "    .dataframe thead th {\n",
       "        text-align: right;\n",
       "    }\n",
       "</style>\n",
       "<table border=\"1\" class=\"dataframe\">\n",
       "  <thead>\n",
       "    <tr style=\"text-align: right;\">\n",
       "      <th></th>\n",
       "      <th>Spring</th>\n",
       "      <th>Winter</th>\n",
       "      <th>Autumn</th>\n",
       "      <th>Summer</th>\n",
       "    </tr>\n",
       "    <tr>\n",
       "      <th>Style</th>\n",
       "      <th></th>\n",
       "      <th></th>\n",
       "      <th></th>\n",
       "      <th></th>\n",
       "    </tr>\n",
       "  </thead>\n",
       "  <tbody>\n",
       "    <tr>\n",
       "      <th>Brief</th>\n",
       "      <td>7484</td>\n",
       "      <td>25020.0</td>\n",
       "      <td>69821.0</td>\n",
       "      <td>37303</td>\n",
       "    </tr>\n",
       "    <tr>\n",
       "      <th>Casual</th>\n",
       "      <td>60979</td>\n",
       "      <td>192922.0</td>\n",
       "      <td>566744.0</td>\n",
       "      <td>282913</td>\n",
       "    </tr>\n",
       "    <tr>\n",
       "      <th>Flare</th>\n",
       "      <td>71</td>\n",
       "      <td>406.0</td>\n",
       "      <td>1161.0</td>\n",
       "      <td>451</td>\n",
       "    </tr>\n",
       "    <tr>\n",
       "      <th>Novelty</th>\n",
       "      <td>563</td>\n",
       "      <td>2504.0</td>\n",
       "      <td>7353.0</td>\n",
       "      <td>2866</td>\n",
       "    </tr>\n",
       "    <tr>\n",
       "      <th>OL</th>\n",
       "      <td>15</td>\n",
       "      <td>53.0</td>\n",
       "      <td>158.0</td>\n",
       "      <td>63</td>\n",
       "    </tr>\n",
       "    <tr>\n",
       "      <th>Sexy</th>\n",
       "      <td>23451</td>\n",
       "      <td>81263.0</td>\n",
       "      <td>230524.0</td>\n",
       "      <td>117117</td>\n",
       "    </tr>\n",
       "    <tr>\n",
       "      <th>bohemian</th>\n",
       "      <td>3800</td>\n",
       "      <td>11752.0</td>\n",
       "      <td>37446.0</td>\n",
       "      <td>16119</td>\n",
       "    </tr>\n",
       "    <tr>\n",
       "      <th>cute</th>\n",
       "      <td>20022</td>\n",
       "      <td>63999.0</td>\n",
       "      <td>179466.0</td>\n",
       "      <td>98512</td>\n",
       "    </tr>\n",
       "    <tr>\n",
       "      <th>fashion</th>\n",
       "      <td>19</td>\n",
       "      <td>74.0</td>\n",
       "      <td>211.0</td>\n",
       "      <td>91</td>\n",
       "    </tr>\n",
       "    <tr>\n",
       "      <th>party</th>\n",
       "      <td>7987</td>\n",
       "      <td>24558.0</td>\n",
       "      <td>73978.0</td>\n",
       "      <td>35518</td>\n",
       "    </tr>\n",
       "    <tr>\n",
       "      <th>sexy</th>\n",
       "      <td>3564</td>\n",
       "      <td>15173.0</td>\n",
       "      <td>39002.0</td>\n",
       "      <td>19704</td>\n",
       "    </tr>\n",
       "    <tr>\n",
       "      <th>vintage</th>\n",
       "      <td>8693</td>\n",
       "      <td>33595.0</td>\n",
       "      <td>91439.0</td>\n",
       "      <td>46847</td>\n",
       "    </tr>\n",
       "    <tr>\n",
       "      <th>work</th>\n",
       "      <td>4893</td>\n",
       "      <td>16882.0</td>\n",
       "      <td>46389.0</td>\n",
       "      <td>24931</td>\n",
       "    </tr>\n",
       "  </tbody>\n",
       "</table>\n",
       "</div>"
      ],
      "text/plain": [
       "          Spring    Winter    Autumn  Summer\n",
       "Style                                       \n",
       "Brief       7484   25020.0   69821.0   37303\n",
       "Casual     60979  192922.0  566744.0  282913\n",
       "Flare         71     406.0    1161.0     451\n",
       "Novelty      563    2504.0    7353.0    2866\n",
       "OL            15      53.0     158.0      63\n",
       "Sexy       23451   81263.0  230524.0  117117\n",
       "bohemian    3800   11752.0   37446.0   16119\n",
       "cute       20022   63999.0  179466.0   98512\n",
       "fashion       19      74.0     211.0      91\n",
       "party       7987   24558.0   73978.0   35518\n",
       "sexy        3564   15173.0   39002.0   19704\n",
       "vintage     8693   33595.0   91439.0   46847\n",
       "work        4893   16882.0   46389.0   24931"
      ]
     },
     "execution_count": 26,
     "metadata": {},
     "output_type": "execute_result"
    }
   ],
   "source": [
    "total_collection=inp0.groupby(['Style'])['Spring','Winter','Autumn', 'Summer'].sum()\n",
    "total_collection\n",
    "#total_collection[total_collection.sum(axis = 1)<50000]"
   ]
  },
  {
   "cell_type": "code",
   "execution_count": 27,
   "metadata": {},
   "outputs": [
    {
     "data": {
      "text/html": [
       "<div>\n",
       "<style scoped>\n",
       "    .dataframe tbody tr th:only-of-type {\n",
       "        vertical-align: middle;\n",
       "    }\n",
       "\n",
       "    .dataframe tbody tr th {\n",
       "        vertical-align: top;\n",
       "    }\n",
       "\n",
       "    .dataframe thead th {\n",
       "        text-align: right;\n",
       "    }\n",
       "</style>\n",
       "<table border=\"1\" class=\"dataframe\">\n",
       "  <thead>\n",
       "    <tr style=\"text-align: right;\">\n",
       "      <th></th>\n",
       "      <th>Spring</th>\n",
       "      <th>Winter</th>\n",
       "      <th>Autumn</th>\n",
       "      <th>Summer</th>\n",
       "    </tr>\n",
       "    <tr>\n",
       "      <th>Style</th>\n",
       "      <th></th>\n",
       "      <th></th>\n",
       "      <th></th>\n",
       "      <th></th>\n",
       "    </tr>\n",
       "  </thead>\n",
       "  <tbody>\n",
       "    <tr>\n",
       "      <th>Flare</th>\n",
       "      <td>71</td>\n",
       "      <td>406.0</td>\n",
       "      <td>1161.0</td>\n",
       "      <td>451</td>\n",
       "    </tr>\n",
       "    <tr>\n",
       "      <th>Novelty</th>\n",
       "      <td>563</td>\n",
       "      <td>2504.0</td>\n",
       "      <td>7353.0</td>\n",
       "      <td>2866</td>\n",
       "    </tr>\n",
       "    <tr>\n",
       "      <th>OL</th>\n",
       "      <td>15</td>\n",
       "      <td>53.0</td>\n",
       "      <td>158.0</td>\n",
       "      <td>63</td>\n",
       "    </tr>\n",
       "    <tr>\n",
       "      <th>fashion</th>\n",
       "      <td>19</td>\n",
       "      <td>74.0</td>\n",
       "      <td>211.0</td>\n",
       "      <td>91</td>\n",
       "    </tr>\n",
       "  </tbody>\n",
       "</table>\n",
       "</div>"
      ],
      "text/plain": [
       "         Spring  Winter  Autumn  Summer\n",
       "Style                                  \n",
       "Flare        71   406.0  1161.0     451\n",
       "Novelty     563  2504.0  7353.0    2866\n",
       "OL           15    53.0   158.0      63\n",
       "fashion      19    74.0   211.0      91"
      ]
     },
     "execution_count": 27,
     "metadata": {},
     "output_type": "execute_result"
    }
   ],
   "source": [
    "total_collection[total_collection.sum(axis = 1)<50000]"
   ]
  },
  {
   "cell_type": "markdown",
   "metadata": {},
   "source": [
    "What is the percentage of “cute” and “Others” category in “Style” column in “Attribute DataSet” respectively?\n",
    "- 46%, 5%\n",
    "- 9%, 2.1%\n",
    "- 2.1%, 5%\n",
    "- 13.8%, 9%\n"
   ]
  },
  {
   "cell_type": "code",
   "execution_count": 28,
   "metadata": {},
   "outputs": [
    {
     "data": {
      "text/plain": [
       "Casual      46.072187\n",
       "Sexy        13.800425\n",
       "party       10.191083\n",
       "cute         9.129512\n",
       "vintage      5.307856\n",
       "bohemian     4.883227\n",
       "Brief        3.609342\n",
       "work         3.609342\n",
       "sexy         1.273885\n",
       "Novelty      1.273885\n",
       "Flare        0.424628\n",
       "OL           0.212314\n",
       "fashion      0.212314\n",
       "Name: Style, dtype: float64"
      ]
     },
     "execution_count": 28,
     "metadata": {},
     "output_type": "execute_result"
    }
   ],
   "source": [
    "# Calculate the percentage of each categories in the \"Style\" variable.\n",
    "inp0.Style.value_counts(normalize=True)*100"
   ]
  },
  {
   "cell_type": "markdown",
   "metadata": {},
   "source": [
    "Similarly Club Neckline, SLeeve length categories into \"Others\" which have less than 50000 sales across all the seasons."
   ]
  },
  {
   "cell_type": "code",
   "execution_count": 29,
   "metadata": {},
   "outputs": [],
   "source": [
    "# Group \"Neckline\" categories into \"Others\" which have less than 50000 sales across all the seasons.\n"
   ]
  },
  {
   "cell_type": "code",
   "execution_count": 30,
   "metadata": {},
   "outputs": [],
   "source": [
    "# Group \"Sleeve length\" categories into \"Others\" which have less than 50000 sales across all the seasons.\n"
   ]
  },
  {
   "cell_type": "markdown",
   "metadata": {},
   "source": [
    "Club material, fabrictype, patterntype and decoration categories into \"Others\" which have less than 25000 sales across all the seasons"
   ]
  },
  {
   "cell_type": "code",
   "execution_count": 31,
   "metadata": {},
   "outputs": [],
   "source": [
    "# Group \"material\" categories into \"Others\" which have less than 25000 sales across all the seasons.\n"
   ]
  },
  {
   "cell_type": "code",
   "execution_count": 32,
   "metadata": {},
   "outputs": [],
   "source": [
    "# Group \"fabric type\" categories into \"Others\" which have less than 25000 sales across all the seasons.\n"
   ]
  },
  {
   "cell_type": "code",
   "execution_count": 33,
   "metadata": {},
   "outputs": [],
   "source": [
    "# Group \"patern type\" categories into \"Others\" which have less than 25000 sales across all the seasons.\n"
   ]
  },
  {
   "cell_type": "code",
   "execution_count": 34,
   "metadata": {},
   "outputs": [],
   "source": [
    "# Group \"decoration\" categories into \"Others\" which have less than 25000 sales across all the seasons.\n"
   ]
  },
  {
   "cell_type": "markdown",
   "metadata": {},
   "source": [
    "### Caregorical Ordered Univariate Analysis"
   ]
  },
  {
   "cell_type": "markdown",
   "metadata": {},
   "source": [
    "Which of the following is an unordered variable in “Attribute DataSet”.\n",
    "- Style\n",
    "- Price\n",
    "- Season\n",
    "- Size\n"
   ]
  },
  {
   "cell_type": "markdown",
   "metadata": {},
   "source": [
    "### Numerical variable Univariate analysis:"
   ]
  },
  {
   "cell_type": "markdown",
   "metadata": {},
   "source": [
    "What is the approximate difference between the maximum value and 75th percentile in “Autumn” column.\n",
    "- Approx 54000\n",
    "- Approx 55000\n",
    "- Approx 52000\n",
    "- Approx 50000\n",
    "\n"
   ]
  },
  {
   "cell_type": "code",
   "execution_count": 35,
   "metadata": {},
   "outputs": [
    {
     "data": {
      "text/plain": [
       "count      471.000000\n",
       "mean      2852.849257\n",
       "std       5037.033044\n",
       "min          1.000000\n",
       "25%        410.500000\n",
       "50%       1334.000000\n",
       "75%       3126.000000\n",
       "max      55532.000000\n",
       "Name: Autumn, dtype: float64"
      ]
     },
     "execution_count": 35,
     "metadata": {},
     "output_type": "execute_result"
    }
   ],
   "source": [
    "# Describe the numerical variale: \"Autumn\".\n",
    "inp0.Autumn.describe()"
   ]
  },
  {
   "cell_type": "code",
   "execution_count": 36,
   "metadata": {},
   "outputs": [],
   "source": [
    "# plot the boxplot of \"Autumn\" column.\n"
   ]
  },
  {
   "cell_type": "markdown",
   "metadata": {},
   "source": [
    "Which of the following season has the highest difference between the maximum value and 99th quantile of sales?\n",
    "- Winter\n",
    "- Summer\n",
    "- Spring\n",
    "- Autumn\n"
   ]
  },
  {
   "cell_type": "code",
   "execution_count": 37,
   "metadata": {},
   "outputs": [
    {
     "data": {
      "text/plain": [
       "11402.69999999999"
      ]
     },
     "execution_count": 37,
     "metadata": {},
     "output_type": "execute_result"
    }
   ],
   "source": [
    "# Find the maximum and 99th percentile of Winter season.\n",
    "# Find the maximum and 99th percentile of Winter season.\n",
    "inp0.Winter.max()- inp0.Winter.quantile(0.99)"
   ]
  },
  {
   "cell_type": "code",
   "execution_count": 38,
   "metadata": {},
   "outputs": [
    {
     "data": {
      "text/plain": [
       "21602.999999999996"
      ]
     },
     "execution_count": 38,
     "metadata": {},
     "output_type": "execute_result"
    }
   ],
   "source": [
    "# Find the maximum and 99th percentile of Summer season.\n",
    "inp0.Summer.max()- inp0.Summer.quantile(0.99)"
   ]
  },
  {
   "cell_type": "code",
   "execution_count": 39,
   "metadata": {},
   "outputs": [
    {
     "data": {
      "text/plain": [
       "4716.8"
      ]
     },
     "execution_count": 39,
     "metadata": {},
     "output_type": "execute_result"
    }
   ],
   "source": [
    "# Find the maximum and 99th percentile of Spring season.\n",
    "inp0.Spring.max()- inp0.Spring.quantile(0.99)"
   ]
  },
  {
   "cell_type": "code",
   "execution_count": 40,
   "metadata": {},
   "outputs": [
    {
     "data": {
      "text/plain": [
       "31397.999999999975"
      ]
     },
     "execution_count": 40,
     "metadata": {},
     "output_type": "execute_result"
    }
   ],
   "source": [
    "# Find the maximum and 99th percentile of Autumn season.\n",
    "inp0.Autumn.max()- inp0.Autumn.quantile(0.99)"
   ]
  },
  {
   "cell_type": "markdown",
   "metadata": {},
   "source": [
    "## Bivariate Analysis "
   ]
  },
  {
   "cell_type": "markdown",
   "metadata": {},
   "source": [
    "### Numerical- Categorical analysis"
   ]
  },
  {
   "cell_type": "markdown",
   "metadata": {},
   "source": [
    "Which of the following “Price” category has the lowest average value of rating?\n",
    "- very-high\n",
    "- Medium\n",
    "- Low\n",
    "- High\n"
   ]
  },
  {
   "cell_type": "code",
   "execution_count": 50,
   "metadata": {},
   "outputs": [
    {
     "data": {
      "text/plain": [
       "Price\n",
       "Average      3.454430\n",
       "High         2.914286\n",
       "Low          3.731481\n",
       "Medium       3.156667\n",
       "very-high    3.123810\n",
       "Name: Rating, dtype: float64"
      ]
     },
     "execution_count": 50,
     "metadata": {},
     "output_type": "execute_result"
    }
   ],
   "source": [
    "# Find the Mean of Ratings for each Price category.\n",
    "inp0.groupby(\"Price\")[\"Rating\"].mean()"
   ]
  },
  {
   "cell_type": "markdown",
   "metadata": {},
   "source": [
    "What is the median of the rating of “vintage” category in Style column?\n",
    "- 4.6\n",
    "- 4.7\n",
    "- 4.55\n",
    "- 0.00\n"
   ]
  },
  {
   "cell_type": "code",
   "execution_count": 51,
   "metadata": {},
   "outputs": [
    {
     "data": {
      "text/plain": [
       "Style\n",
       "Brief       4.60\n",
       "Casual      4.60\n",
       "Flare       0.00\n",
       "Novelty     2.10\n",
       "OL          0.00\n",
       "Sexy        4.60\n",
       "bohemian    4.60\n",
       "cute        4.60\n",
       "fashion     4.00\n",
       "party       4.70\n",
       "sexy        4.55\n",
       "vintage     4.60\n",
       "work        4.70\n",
       "Name: Rating, dtype: float64"
      ]
     },
     "execution_count": 51,
     "metadata": {},
     "output_type": "execute_result"
    }
   ],
   "source": [
    "# Find the median of Ratings for each Style category.\n",
    "inp0.groupby(\"Style\")[\"Rating\"].median()"
   ]
  },
  {
   "cell_type": "markdown",
   "metadata": {},
   "source": [
    "Which of the following season has the highest average value of sale for “Recommendation” value equals to 1.\n",
    "- Summer\n",
    "- Spring\n",
    "- Autumn\n",
    "- Winter\n"
   ]
  },
  {
   "cell_type": "code",
   "execution_count": 52,
   "metadata": {},
   "outputs": [
    {
     "data": {
      "text/plain": [
       "1469.8994974874372"
      ]
     },
     "execution_count": 52,
     "metadata": {},
     "output_type": "execute_result"
    }
   ],
   "source": [
    "# Summer sale vs Recommendation.\n",
    "# Summer sale vs Recommendation.\n",
    "inp0[inp0[\"Recommendation\"]==1].Summer.mean()"
   ]
  },
  {
   "cell_type": "code",
   "execution_count": 53,
   "metadata": {},
   "outputs": [
    {
     "data": {
      "text/plain": [
       "303.65829145728645"
      ]
     },
     "execution_count": 53,
     "metadata": {},
     "output_type": "execute_result"
    }
   ],
   "source": [
    "# Spring sale vs Recommendation.\n",
    "inp0[inp0[\"Recommendation\"]==1].Spring.mean()"
   ]
  },
  {
   "cell_type": "code",
   "execution_count": 54,
   "metadata": {},
   "outputs": [
    {
     "data": {
      "text/plain": [
       "2868.0603015075376"
      ]
     },
     "execution_count": 54,
     "metadata": {},
     "output_type": "execute_result"
    }
   ],
   "source": [
    "# Autumn sale vs Recommendation.\n",
    "inp0[inp0[\"Recommendation\"]==1].Autumn.mean()"
   ]
  },
  {
   "cell_type": "code",
   "execution_count": 55,
   "metadata": {},
   "outputs": [
    {
     "data": {
      "text/plain": [
       "1002.8090452261307"
      ]
     },
     "execution_count": 55,
     "metadata": {},
     "output_type": "execute_result"
    }
   ],
   "source": [
    "# Winter sale vs Recommendation.\n",
    "inp0[inp0[\"Recommendation\"]==1].Winter.mean()"
   ]
  },
  {
   "cell_type": "markdown",
   "metadata": {},
   "source": [
    "### Categorical categorical bivariate analysis\n"
   ]
  },
  {
   "cell_type": "markdown",
   "metadata": {},
   "source": [
    "Which of the following size categories has the highest positive recommendations?\n",
    "- Medium and extra large\n",
    "- Extra large and small\n",
    "- Free and small\n",
    "- Free and medium\n"
   ]
  },
  {
   "cell_type": "code",
   "execution_count": 56,
   "metadata": {},
   "outputs": [
    {
     "data": {
      "image/png": "[encoded data removed]",
      "text/plain": [
       "<Figure size 432x288 with 1 Axes>"
      ]
     },
     "metadata": {
      "needs_background": "light"
     },
     "output_type": "display_data"
    }
   ],
   "source": [
    "# Size vs Recommendation.\n",
    "# Size vs Recommendation.\n",
    "inp0.groupby(\"Size\")[\"Recommendation\"].mean().plot.barh()\n",
    "plt.show()"
   ]
  },
  {
   "cell_type": "markdown",
   "metadata": {},
   "source": [
    "### Multivariate analysis "
   ]
  },
  {
   "cell_type": "markdown",
   "metadata": {},
   "source": [
    "Which of the following pair of “Style” and “Price” category has the highest average of positive recommendations?\n",
    "- Price: medium and style: vintage\n",
    "- Price: medium and style: cute\n",
    "- Price: very high and style: party\n",
    "- Price: low and style: sexy\n"
   ]
  },
  {
   "cell_type": "code",
   "execution_count": 57,
   "metadata": {},
   "outputs": [
    {
     "data": {
      "image/png": "[encoded data removed]",
      "text/plain": [
       "<Figure size 720x432 with 2 Axes>"
      ]
     },
     "metadata": {
      "needs_background": "light"
     },
     "output_type": "display_data"
    }
   ],
   "source": [
    "# plot the heat map of Style, price and Recommendation.\n",
    "plt.figure(figsize=[10,6])\n",
    "res=pd.pivot_table(inp0,index=\"Style\",columns=[\"Price\"],values=\"Recommendation\",fill_value=0)\n",
    "sns.heatmap(data=res,cmap=\"Blues\",annot=True)\n",
    "plt.show()"
   ]
  },
  {
   "cell_type": "markdown",
   "metadata": {},
   "source": [
    "Which of the following material type has no recommendation in summer and winter seasons?\n",
    "- Mix and Milksilk\n",
    "- Nylon and Rayon\n",
    "- Microfiber and Silk\n",
    "- Milksilk and Microfiber\n"
   ]
  },
  {
   "cell_type": "code",
   "execution_count": 60,
   "metadata": {},
   "outputs": [
    {
     "data": {
      "image/png": "[encoded data removed]",
      "text/plain": [
       "<Figure size 720x432 with 2 Axes>"
      ]
     },
     "metadata": {
      "needs_background": "light"
     },
     "output_type": "display_data"
    }
   ],
   "source": [
    "# plot the heat map of Season, material and Recommendation.\n",
    "plt.figure(figsize=[10,6])\n",
    "res = pd.pivot_table(data=inp0, index=\"Material\", columns=\"Season\", values=\"Recommendation\")\n",
    "sns.heatmap(res, cmap=\"RdYlGn\", annot=True, center=0.427)\n",
    "plt.show()"
   ]
  },
  {
   "cell_type": "code",
   "execution_count": null,
   "metadata": {},
   "outputs": [],
   "source": []
  }
 ],
 "metadata": {
  "kernelspec": {
   "display_name": "Python 3",
   "language": "python",
   "name": "python3"
  },
  "language_info": {
   "codemirror_mode": {
    "name": "ipython",
    "version": 3
   },
   "file_extension": ".py",
   "mimetype": "text/x-python",
   "name": "python",
   "nbconvert_exporter": "python",
   "pygments_lexer": "ipython3",
   "version": "3.7.6"
  }
 },
 "nbformat": 4,
 "nbformat_minor": 2
}
